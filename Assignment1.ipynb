{
 "cells": [
  {
   "cell_type": "code",
   "execution_count": 1,
   "id": "1d758f95",
   "metadata": {},
   "outputs": [
    {
     "name": "stdout",
     "output_type": "stream",
     "text": [
      "[19, 19, 20, 22, 24, 24, 24, 25, 25, 26]\n"
     ]
    }
   ],
   "source": [
    "ages=[19, 22, 19, 24, 20, 25, 26, 24, 25, 24]\n",
    "ages.sort()  #for sorting\n",
    "print(ages)"
   ]
  },
  {
   "cell_type": "code",
   "execution_count": 2,
   "id": "8f18dc9c",
   "metadata": {},
   "outputs": [
    {
     "name": "stdout",
     "output_type": "stream",
     "text": [
      "26\n"
     ]
    }
   ],
   "source": [
    "print(max(ages)) #returns max age\n"
   ]
  },
  {
   "cell_type": "code",
   "execution_count": 3,
   "id": "74bff629",
   "metadata": {},
   "outputs": [
    {
     "name": "stdout",
     "output_type": "stream",
     "text": [
      "19\n"
     ]
    }
   ],
   "source": [
    "print(min(ages)) #returns min age"
   ]
  },
  {
   "cell_type": "code",
   "execution_count": 4,
   "id": "3f292b25",
   "metadata": {},
   "outputs": [
    {
     "name": "stdout",
     "output_type": "stream",
     "text": [
      "[19, 19, 20, 22, 24, 24, 24, 25, 25, 26, 19, 26]\n"
     ]
    }
   ],
   "source": [
    "ages.append(min(ages))#adds min age to the list\n",
    "ages.append(max(ages))#adds max age to the list\n",
    "print(ages)"
   ]
  },
  {
   "cell_type": "code",
   "execution_count": 8,
   "id": "b550e41f",
   "metadata": {},
   "outputs": [
    {
     "name": "stdout",
     "output_type": "stream",
     "text": [
      "24.0\n"
     ]
    }
   ],
   "source": [
    "ages.sort()\n",
    "if len(ages)%2!=0:\n",
    "    median=int((len(ages)+1)/2-1)\n",
    "    print(median)\n",
    "else:\n",
    "    median1=int(len(ages)/2-1)\n",
    "    median2=int(len(ages)/2)\n",
    "    print((ages[median1]+ages[median2])/2)"
   ]
  },
  {
   "cell_type": "code",
   "execution_count": 10,
   "id": "90dc80f8",
   "metadata": {},
   "outputs": [
    {
     "name": "stdout",
     "output_type": "stream",
     "text": [
      "22.75\n"
     ]
    }
   ],
   "source": [
    "Average_Age=sum(ages)/len(ages)  #for average age\n",
    "print(Average_Age)"
   ]
  },
  {
   "cell_type": "code",
   "execution_count": 11,
   "id": "817a031f",
   "metadata": {},
   "outputs": [
    {
     "name": "stdout",
     "output_type": "stream",
     "text": [
      "7\n"
     ]
    }
   ],
   "source": [
    "Range=max(ages)-min(ages)  #range\n",
    "print(Range)"
   ]
  },
  {
   "cell_type": "code",
   "execution_count": 12,
   "id": "699fc2b1",
   "metadata": {},
   "outputs": [
    {
     "name": "stdout",
     "output_type": "stream",
     "text": [
      "{'name': 'cashew', 'breed': 'golden retriever', 'color': 'golden', 'legs': '4', 'age': '2'}\n"
     ]
    }
   ],
   "source": [
    "#2\n",
    "dog={} #creates empty dictionary \n",
    "dog={'name':'cashew','breed':'golden retriever','color':'golden','legs':'4','age':'2'}\n",
    "print(dog)"
   ]
  },
  {
   "cell_type": "code",
   "execution_count": 13,
   "id": "eb1386a4",
   "metadata": {},
   "outputs": [
    {
     "name": "stdout",
     "output_type": "stream",
     "text": [
      "8\n"
     ]
    }
   ],
   "source": [
    "student={'first_name':'yami','last_name':'macherla','gender':'female','marital status':'single','skills':['c','java','python'],'country':'India','city':'nizambad','address':'ankapur'}\n",
    "print(len(student)) #returns length of student dictionary \n"
   ]
  },
  {
   "cell_type": "code",
   "execution_count": 14,
   "id": "8ac6ee7f",
   "metadata": {},
   "outputs": [
    {
     "name": "stdout",
     "output_type": "stream",
     "text": [
      "['c', 'java', 'python']\n",
      "<class 'list'>\n"
     ]
    }
   ],
   "source": [
    "print(student['skills']) #returns skills from student \n",
    "print(type(student['skills'])) #returns type of skills\n"
   ]
  },
  {
   "cell_type": "code",
   "execution_count": 15,
   "id": "2df47101",
   "metadata": {},
   "outputs": [
    {
     "name": "stdout",
     "output_type": "stream",
     "text": [
      "['first_name', 'last_name', 'gender', 'marital status', 'skills', 'country', 'city', 'address']\n",
      "['yami', 'macherla', 'female', 'single', ['c', 'java', 'python'], 'India', 'nizambad', 'ankapur']\n"
     ]
    }
   ],
   "source": [
    "print(list(student.keys()))#returns keys of student\n",
    "print(list(student.values()))#returns values of student"
   ]
  },
  {
   "cell_type": "code",
   "execution_count": 18,
   "id": "d59444f7",
   "metadata": {},
   "outputs": [
    {
     "name": "stdout",
     "output_type": "stream",
     "text": [
      "4\n",
      "('yash', 'madhu', 'manu', 'mammu', 'gangareddy', 'latha')\n"
     ]
    }
   ],
   "source": [
    "#3\n",
    "brothers=('yash','madhu') #creates tuple \n",
    "sisters=('manu','mammu')\n",
    "siblings=brothers+sisters #joins tuples brothers and sisters\n",
    "#as tuple is immutable ,we cannot modify values in a tuple\n",
    "print(len(siblings)) \n",
    "family_members=siblings+('gangareddy','latha')\n",
    "print(family_members)"
   ]
  },
  {
   "cell_type": "code",
   "execution_count": 20,
   "id": "160278b7",
   "metadata": {},
   "outputs": [
    {
     "name": "stdout",
     "output_type": "stream",
     "text": [
      "7\n",
      "{'IBM', 'Google', 'Twitter', 'Microsoft', 'Oracle', 'Amazon', 'Apple', 'Facebook '}\n",
      "{'Twitter', 'Facebook ', 'Apple', 'Oracle', 'TCS', 'IBM', 'Microsoft', 'Amazon', 'Wipro', 'Google'}\n",
      "{19, 20, 22, 24, 25, 26, 27, 28}\n",
      "{19, 20, 22, 24, 25, 26}\n",
      "True\n",
      "False\n",
      "{19, 20, 22, 24, 25, 26, 27, 28}\n",
      "{19, 20, 22, 24, 25, 26, 27, 28}\n",
      "{27, 28}\n",
      "8\n",
      "5\n"
     ]
    }
   ],
   "source": [
    "#4\n",
    "it_companies={'Facebook ','Google','Microsoft','Apple','IBM','Oracle','Amazon'}\n",
    "print(len(it_companies))\n",
    "it_companies.add('Twitter')\n",
    "print(it_companies)\n",
    "it_companies.update(['TCS','Wipro','HCL']) # inserts multiple companies to set it_companies\n",
    "it_companies.remove('HCL')# removes hcl\n",
    "print(it_companies)\n",
    "\n",
    "# The difference between the two functions is that discard() function leaves a set unchanged if the element is not present in set. On the other hand, the remove() function will raise an error in such a condition (if element is not present in the set).\n",
    "\n",
    "A = {19, 22, 24, 20, 25, 26}\n",
    "B = {19, 22, 20, 25, 26, 24, 28, 27}\n",
    "print(A.union(B)) #joins A&B\n",
    "print(A.intersection(B)) # returns elements present in both sets \n",
    "print(A.issubset(B))# returns true or false\n",
    "print(A.isdisjoint(B))\n",
    "C = A.union(B)#joins a with b and stores in c\n",
    "print(C)\n",
    "D = B.union(A)#joins b with a and stores in D\n",
    "print(D)\n",
    "print(A.symmetric_difference(B))\n",
    "A.clear()#deletes the set \n",
    "B.clear()\n",
    "\n",
    "age = [22, 19, 24, 25, 26, 24, 25, 24]\n",
    "age_set = set(age)#converts age to the set\n",
    "print(len(age))#length of list\n",
    "print(len(age_set))#  returns length of set\n"
   ]
  },
  {
   "cell_type": "code",
   "execution_count": 22,
   "id": "474eef18",
   "metadata": {},
   "outputs": [
    {
     "name": "stdout",
     "output_type": "stream",
     "text": [
      "Radius =30\n",
      "Area of circle is 2826.0\n",
      "Circumference of circle is 188.4\n"
     ]
    }
   ],
   "source": [
    "##5\n",
    "radius= input('Radius =')\n",
    "_area_of_circle_ = (3.14) * (int(radius)**2)\n",
    "print('Area of circle is',_area_of_circle_)\n",
    "_circum_of_circle_ = 2 * (3.14) * int(radius)\n",
    "print('Circumference of circle is',_circum_of_circle_)"
   ]
  },
  {
   "cell_type": "code",
   "execution_count": 23,
   "id": "0548b0d9",
   "metadata": {},
   "outputs": [
    {
     "name": "stdout",
     "output_type": "stream",
     "text": [
      "8\n"
     ]
    }
   ],
   "source": [
    "#6\n",
    "string = 'I am a teacher and I love to inspire and teach people'\n",
    "list = string.split(' ') # splits the string and converts in to list\n",
    "set=set(list) #converts list into set \n",
    "unique_words=0\n",
    "for i in set:\n",
    "    count=0\n",
    "    for j in range(len(list)):  #comparing the set elements with list elements recursively\n",
    "        if(i==list[j]): \n",
    "            count+=1\n",
    "    if(count==1):  # to find the count\n",
    "        unique_words+=1\n",
    "    count=1\n",
    "print(unique_words)"
   ]
  },
  {
   "cell_type": "code",
   "execution_count": 24,
   "id": "66694961",
   "metadata": {},
   "outputs": [
    {
     "name": "stdout",
     "output_type": "stream",
     "text": [
      "Name\t\tage\t\tcountry\t\tcity\n",
      "Asabeneh\t250\t\tFinland\t\tHelsinki\n"
     ]
    }
   ],
   "source": [
    "#7\n",
    "print('Name\\t\\tage\\t\\tcountry\\t\\tcity\\n''Asabeneh\\t250\\t\\tFinland\\t\\tHelsinki')"
   ]
  },
  {
   "cell_type": "code",
   "execution_count": 25,
   "id": "b2b32bc6",
   "metadata": {},
   "outputs": [
    {
     "name": "stdout",
     "output_type": "stream",
     "text": [
      "The area of a circle with radius 10 is 314 meters square\n"
     ]
    }
   ],
   "source": [
    "#8\n",
    "radius = 10\n",
    "area =  3.14 * radius ** 2 #area of circle\n",
    "\n",
    "print('The area of a circle with radius 10 is {} meters square'.format(int(area)))"
   ]
  },
  {
   "cell_type": "code",
   "execution_count": 1,
   "id": "a11f1d78",
   "metadata": {},
   "outputs": [
    {
     "name": "stdout",
     "output_type": "stream",
     "text": [
      "Enter the Number of Students:5\n",
      "Enter Student1 weight:56\n",
      "Enter Student2 weight:23\n",
      "Enter Student3 weight:89\n",
      "Enter Student4 weight:95\n",
      "Enter Student5 weight:98\n",
      "[25.4, 10.43, 40.37, 43.09, 44.45]\n"
     ]
    }
   ],
   "source": [
    "#9\n",
    "N=int(input('Enter the Number of Students:'))\n",
    "Weight_lst_lbs=[]\n",
    "Weight_lst_kgs=[]\n",
    "#This program uses the below formula\n",
    "#1lb = 0.453592 kg\n",
    "for i in range(1, N+1): \n",
    "      Weight= int(input('Enter Student{} weight:'.format(i))) \n",
    "      Weight_lst_lbs.append(Weight)\n",
    "#Converting lbs list to kgs list\n",
    "for i in range(0,N):\n",
    "       W=Weight_lst_lbs[i]*0.453592\n",
    "       Weight_lst_kgs.append(round(W,2))\n",
    "#Printing wieght list in kgs\n",
    "print(Weight_lst_kgs)"
   ]
  },
  {
   "cell_type": "code",
   "execution_count": 2,
   "id": "a6be60b7",
   "metadata": {},
   "outputs": [
    {
     "name": "stdout",
     "output_type": "stream",
     "text": [
      "Dataset with total 8 points: \n",
      " [[ 1  0]\n",
      " [ 2  0]\n",
      " [ 3  0]\n",
      " [ 6  0]\n",
      " [ 6  0]\n",
      " [ 7  0]\n",
      " [10  0]\n",
      " [11  0]] \n",
      " Size:  8\n",
      "\n",
      "Class label for the datasetX  Y: [0 0 1 1 1 0 0 0]\n",
      "\n",
      "Training Data X: \n",
      " [[1 0]\n",
      " [2 0]\n",
      " [3 0]\n",
      " [6 0]]\n",
      "\n",
      "Training Data label Y: [0 0 1 1]\n",
      "\n",
      "Predicted Classs labels for testing data Y: [1 1 1 1]\n",
      "\n",
      "Confusion Matrix\n",
      " [[0 3]\n",
      " [0 1]]\n",
      "\n",
      "Accuracy :  0.25\n",
      "Sensitivity :  1.0\n",
      "Specificity :  0.0\n"
     ]
    }
   ],
   "source": [
    "#Question 10\n",
    "import numpy as nm   \n",
    "import pandas as pd \n",
    "from sklearn.model_selection import train_test_split  \n",
    "from sklearn.preprocessing import StandardScaler \n",
    "from sklearn.neighbors import KNeighborsClassifier \n",
    "from sklearn.metrics import confusion_matrix \n",
    "\n",
    "X= nm.array([[1,0],[2,0],[3,0],[6,0],[6,0],[7,0],[10,0],[11,0]])\n",
    "print(\"Dataset with total 8 points: \\n\",X,\"\\n Size: \",len(X))\n",
    "y = nm.array([0,0,1,1,1,0,0,0])\n",
    "print(\"\\nClass label for the datasetX  Y:\",y)\n",
    "x_train, x_test, y_train, y_test= train_test_split(X, y, test_size= 0.50, random_state=0,shuffle=False ) \n",
    "print(\"\\nTraining Data X: \\n\", x_train)\n",
    "print(\"\\nTraining Data label Y:\", y_train)\n",
    "\n",
    "#feature Scaling-used to normalize the range of independent variables or features of data. .\n",
    "#i.e.to standardize the data prior to performing classification \n",
    "stand_scalar= StandardScaler()    \n",
    "x_train= stand_scalar.fit_transform(x_train)    \n",
    "x_test= stand_scalar.transform(x_test) \n",
    "\n",
    "#Initialising KNN Classifier with value 3\n",
    "classifier= KNeighborsClassifier(n_neighbors=3)  \n",
    "#Fitting the data to classifier\n",
    "classifier.fit(x_train, y_train)\n",
    "#Predict Labels for x-test data\n",
    "y_pred= classifier.predict(x_test) \n",
    "print('\\nPredicted Classs labels for testing data Y:',y_pred)\n",
    "     \n",
    "#Confusion matrix with tested data\n",
    "confusion_matrix_result = confusion_matrix(y_test, y_pred)\n",
    "print(\"\\nConfusion Matrix\\n\",confusion_matrix_result)\n",
    "\n",
    "#total P+N can be calculated using sum(sum(conf_matrix))\n",
    "total_value = sum(sum(confusion_matrix_result))\n",
    "#Accuracy TN+TP / P+N\n",
    "accuracy=(confusion_matrix_result[0,0]+confusion_matrix_result[1,1])/total_value\n",
    "print ('\\nAccuracy : ', accuracy)\n",
    "\n",
    "#Sensitivity TP/(TP+FN)\n",
    "sensitivity = confusion_matrix_result[1,1]/(confusion_matrix_result[1,0]+confusion_matrix_result[1,1])\n",
    "print('Sensitivity : ', sensitivity )\n",
    "\n",
    "#Specificity TN/(TN+FP)\n",
    "specificity = confusion_matrix_result[0,0]/(confusion_matrix_result[0,0]+confusion_matrix_result[0,1])\n",
    "print('Specificity : ', specificity)\n"
   ]
  },
  {
   "cell_type": "code",
   "execution_count": null,
   "id": "ab26bb10",
   "metadata": {},
   "outputs": [],
   "source": []
  },
  {
   "cell_type": "code",
   "execution_count": null,
   "id": "74851393",
   "metadata": {},
   "outputs": [],
   "source": []
  },
  {
   "cell_type": "code",
   "execution_count": null,
   "id": "5a44d6bd",
   "metadata": {},
   "outputs": [],
   "source": []
  }
 ],
 "metadata": {
  "kernelspec": {
   "display_name": "Python 3 (ipykernel)",
   "language": "python",
   "name": "python3"
  },
  "language_info": {
   "codemirror_mode": {
    "name": "ipython",
    "version": 3
   },
   "file_extension": ".py",
   "mimetype": "text/x-python",
   "name": "python",
   "nbconvert_exporter": "python",
   "pygments_lexer": "ipython3",
   "version": "3.9.12"
  }
 },
 "nbformat": 4,
 "nbformat_minor": 5
}
